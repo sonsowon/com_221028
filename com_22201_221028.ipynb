{
  "nbformat": 4,
  "nbformat_minor": 0,
  "metadata": {
    "colab": {
      "provenance": [],
      "authorship_tag": "ABX9TyPfTKMAflzzK5z8H87Qb5WB",
      "include_colab_link": true
    },
    "kernelspec": {
      "name": "python3",
      "display_name": "Python 3"
    },
    "language_info": {
      "name": "python"
    }
  },
  "cells": [
    {
      "cell_type": "markdown",
      "metadata": {
        "id": "view-in-github",
        "colab_type": "text"
      },
      "source": [
        "<a href=\"https://colab.research.google.com/github/sonsowon/com_221028/blob/main/com_22201_221028.ipynb\" target=\"_parent\"><img src=\"https://colab.research.google.com/assets/colab-badge.svg\" alt=\"Open In Colab\"/></a>"
      ]
    },
    {
      "cell_type": "code",
      "execution_count": null,
      "metadata": {
        "colab": {
          "base_uri": "https://localhost:8080/"
        },
        "id": "WpmZk66PQmmz",
        "outputId": "ca6b7724-1867-4fa6-9db8-f6622e28cdd4"
      },
      "outputs": [
        {
          "output_type": "stream",
          "name": "stdout",
          "text": [
            "점1수를 입력하시오.: 10\n",
            "점1수를 입력하시오.: 10\n",
            "점1수를 입력하시오.: 10\n",
            "점1수를 입력하시오.: 10\n",
            "점1수를 입력하시오.: 10\n",
            "점1수를 입력하시오.: 10\n",
            "점1수를 입력하시오.: 10\n",
            "점1수를 입력하시오.: 10\n",
            "점1수를 입력하시오.: 10\n",
            "점1수를 입력하시오.: 10\n",
            "10.0\n"
          ]
        }
      ],
      "source": [
        "total = 0\n",
        "counter = 1\n",
        "while counter <= 10:\n",
        "  grade = int(input(\"점1수를 입력하시오.: \")) \n",
        "  total = grade + total\n",
        "  counter = counter + 1\n",
        "average = total /10\n",
        "print(average)"
      ]
    },
    {
      "cell_type": "code",
      "source": [
        "x = 10\n",
        "y = 2\n",
        "result = x + y\n",
        "print(result)\n"
      ],
      "metadata": {
        "colab": {
          "base_uri": "https://localhost:8080/"
        },
        "id": "1vWHBHViQxra",
        "outputId": "058d81e2-4e09-496b-ef9c-fd63f680b250"
      },
      "execution_count": null,
      "outputs": [
        {
          "output_type": "stream",
          "name": "stdout",
          "text": [
            "12\n"
          ]
        }
      ]
    },
    {
      "cell_type": "code",
      "source": [
        "print (\"hello worid\")\n",
        "print (\"안녕 파이썬\")\n"
      ],
      "metadata": {
        "colab": {
          "base_uri": "https://localhost:8080/"
        },
        "id": "9hvHNXh6Q0u6",
        "outputId": "ffebc4de-3505-421a-f9c5-387096fcb642"
      },
      "execution_count": null,
      "outputs": [
        {
          "output_type": "stream",
          "name": "stdout",
          "text": [
            "hello worid\n",
            "안녕 파이썬\n"
          ]
        }
      ]
    },
    {
      "cell_type": "code",
      "source": [
        "print (4+3) ;"
      ],
      "metadata": {
        "colab": {
          "base_uri": "https://localhost:8080/"
        },
        "id": "LG_5isrHQ41J",
        "outputId": "b9523087-a843-4710-a1fb-7c828133d28a"
      },
      "execution_count": null,
      "outputs": [
        {
          "output_type": "stream",
          "name": "stdout",
          "text": [
            "7\n"
          ]
        }
      ]
    },
    {
      "cell_type": "code",
      "source": [
        "print (\"#\" * 15 )\n",
        "print (\"# 안녕하세요? #\")\n",
        "print (\"#\" * 15)"
      ],
      "metadata": {
        "colab": {
          "base_uri": "https://localhost:8080/"
        },
        "id": "7gmBzNyJQ6Bx",
        "outputId": "bdaec3d1-9bd4-47b6-9796-7b06e0da0354"
      },
      "execution_count": null,
      "outputs": [
        {
          "output_type": "stream",
          "name": "stdout",
          "text": [
            "###############\n",
            "# 안녕하세요? #\n",
            "###############\n"
          ]
        }
      ]
    },
    {
      "cell_type": "code",
      "source": [
        "print (\" 3개의 값을 입력하시오.\")\n",
        "x = int(input(\"x의 값을 입력하시오.:\"))\n",
        "y = int(input(\"y의 값을 입력하시오.:\"))\n",
        "z = int(input(\"z의 값을 입력하시오.:\"))\n",
        "x = x + 1\n",
        "y = y + 1\n",
        "z = z+ 1\n",
        "print(\"변경된 값은:\", x, y, z, \"로 변경되었습니다.\")"
      ],
      "metadata": {
        "colab": {
          "base_uri": "https://localhost:8080/"
        },
        "id": "X7H9CcdjRB3A",
        "outputId": "16416dfc-94f4-494c-bf67-ec132955d631"
      },
      "execution_count": null,
      "outputs": [
        {
          "output_type": "stream",
          "name": "stdout",
          "text": [
            " 3개의 값을 입력하시오.\n",
            "x의 값을 입력하시오.:2\n",
            "y의 값을 입력하시오.:3\n",
            "z의 값을 입력하시오.:4\n",
            "변경된 값은: 3 4 5 로 변경되었습니다.\n"
          ]
        }
      ]
    },
    {
      "cell_type": "code",
      "source": [
        "won = 10000\n",
        "usd = won *1418\n",
        "print (usd)"
      ],
      "metadata": {
        "colab": {
          "base_uri": "https://localhost:8080/"
        },
        "id": "3cyb5iJHRG2q",
        "outputId": "af42541b-676c-4c44-de58-07f83144f011"
      },
      "execution_count": null,
      "outputs": [
        {
          "output_type": "stream",
          "name": "stdout",
          "text": [
            "14180000\n"
          ]
        }
      ]
    },
    {
      "cell_type": "code",
      "source": [
        "print(\"현재 환율의 입력하시오.:\")\n",
        "exchange_rate = int(input(\"달러의 환율금액을 입력:\"))\n",
        "won = int(input(\"한화 금액을 입역하시오.:\"))\n",
        "usd = won * exchange_rate\n",
        "print (usd)"
      ],
      "metadata": {
        "colab": {
          "base_uri": "https://localhost:8080/"
        },
        "id": "B9-pKgIbRIQ4",
        "outputId": "617dc675-a963-4876-9af4-599ad964bccb"
      },
      "execution_count": null,
      "outputs": [
        {
          "output_type": "stream",
          "name": "stdout",
          "text": [
            "현재 환율의 입력하시오.:\n",
            "달러의 환율금액을 입력:1418\n",
            "한화 금액을 입역하시오.:5000\n",
            "7090000\n"
          ]
        }
      ]
    },
    {
      "cell_type": "code",
      "source": [
        "fahrenheit = 100\n",
        "ceisius = fahrenheit - 32\n",
        "ceisius = ceisius * 5\n",
        "ceisius = ceisius / 9\n",
        "print (ceisius)"
      ],
      "metadata": {
        "colab": {
          "base_uri": "https://localhost:8080/"
        },
        "id": "7PZrIEdeROsh",
        "outputId": "000ea563-95e6-4d9d-a07b-27ae8697f00e"
      },
      "execution_count": null,
      "outputs": [
        {
          "output_type": "stream",
          "name": "stdout",
          "text": [
            "37.77777777777778\n"
          ]
        }
      ]
    }
  ]
}